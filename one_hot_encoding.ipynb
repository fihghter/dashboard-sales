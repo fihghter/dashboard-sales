{
  "nbformat": 4,
  "nbformat_minor": 0,
  "metadata": {
    "colab": {
      "provenance": []
    },
    "kernelspec": {
      "name": "python3",
      "display_name": "Python 3"
    },
    "language_info": {
      "name": "python"
    }
  },
  "cells": [
    {
      "cell_type": "code",
      "execution_count": 1,
      "metadata": {
        "id": "TqqJDnaDxLfU"
      },
      "outputs": [],
      "source": [
        "import pandas as pd"
      ]
    },
    {
      "cell_type": "code",
      "source": [
        "data= {'animals':['cat','whale','cow','dog'],\n",
        "      'color':['brown','white','black','yellow']}"
      ],
      "metadata": {
        "id": "iJLk5b-txbtf"
      },
      "execution_count": 2,
      "outputs": []
    },
    {
      "cell_type": "code",
      "source": [
        "df=pd.DataFrame(data)"
      ],
      "metadata": {
        "id": "oJG0etzdyG3N"
      },
      "execution_count": 4,
      "outputs": []
    },
    {
      "cell_type": "code",
      "source": [
        "one_hot_encoding=pd.get_dummies(df,columns=['animals','color'])"
      ],
      "metadata": {
        "id": "2kcOU90KyV4j"
      },
      "execution_count": 6,
      "outputs": []
    },
    {
      "cell_type": "code",
      "source": [
        "print(one_hot_encoding)"
      ],
      "metadata": {
        "colab": {
          "base_uri": "https://localhost:8080/"
        },
        "id": "DXNJiIogyyYd",
        "outputId": "4c5937ec-5145-43ad-a294-4381b24ef26f"
      },
      "execution_count": 7,
      "outputs": [
        {
          "output_type": "stream",
          "name": "stdout",
          "text": [
            "   animals_cat  animals_cow  animals_dog  animals_whale  color_black  \\\n",
            "0         True        False        False          False        False   \n",
            "1        False        False        False           True        False   \n",
            "2        False         True        False          False         True   \n",
            "3        False        False         True          False        False   \n",
            "\n",
            "   color_brown  color_white  color_yellow  \n",
            "0         True        False         False  \n",
            "1        False         True         False  \n",
            "2        False        False         False  \n",
            "3        False        False          True  \n"
          ]
        }
      ]
    },
    {
      "cell_type": "code",
      "source": [
        "#one hot encoding different method"
      ],
      "metadata": {
        "id": "UsSls2TizM6A"
      },
      "execution_count": 9,
      "outputs": []
    },
    {
      "cell_type": "code",
      "source": [
        "import pandas as pd\n",
        "\n",
        "# Create a sample dataframe\n",
        "data = {'Animal': ['Cat', 'Dog', 'Parrot', 'Whale'],\n",
        "        'Color': ['Brown', 'Black', 'Mixed', 'Gray']}\n",
        "df = pd.DataFrame(data)\n",
        "\n",
        "# Perform one hot encoding\n",
        "one_hot_encoded_data = pd.get_dummies(df, columns=['Animal', 'Color'])\n",
        "\n",
        "print(one_hot_encoded_data)"
      ],
      "metadata": {
        "colab": {
          "base_uri": "https://localhost:8080/"
        },
        "id": "DU1z6N6mz09g",
        "outputId": "3e0c1a49-bb10-435b-9570-1232f73519e3"
      },
      "execution_count": 14,
      "outputs": [
        {
          "output_type": "stream",
          "name": "stdout",
          "text": [
            "   Animal_Cat  Animal_Dog  Animal_Parrot  Animal_Whale  Color_Black  \\\n",
            "0        True       False          False         False        False   \n",
            "1       False        True          False         False         True   \n",
            "2       False       False           True         False        False   \n",
            "3       False       False          False          True        False   \n",
            "\n",
            "   Color_Brown  Color_Gray  Color_Mixed  \n",
            "0         True       False        False  \n",
            "1        False       False        False  \n",
            "2        False       False         True  \n",
            "3        False        True        False  \n"
          ]
        }
      ]
    },
    {
      "cell_type": "code",
      "source": [
        "from sklearn.preprocessing import OneHotEncoder\n",
        "\n",
        "# Create a sample dataframe\n",
        "data = {'Animal': ['Cat', 'Dog', 'Parrot', 'Whale'],\n",
        "        'Color': ['Brown', 'Black', 'Mixed', 'Gray']}\n",
        "df = pd.DataFrame(data)\n",
        "\n",
        "# Perform one hot encoding\n",
        "enc = OneHotEncoder()\n",
        "encoded_data = enc.fit_transform(df[['Animal', 'Color']])\n",
        "\n",
        "print(encoded_data.toarray())"
      ],
      "metadata": {
        "colab": {
          "base_uri": "https://localhost:8080/"
        },
        "id": "WjUlYJSAz24r",
        "outputId": "4d1147ff-2e79-478a-e741-943dfe2ab859"
      },
      "execution_count": 11,
      "outputs": [
        {
          "output_type": "stream",
          "name": "stdout",
          "text": [
            "[[1. 0. 0. 0. 0. 1. 0. 0.]\n",
            " [0. 1. 0. 0. 1. 0. 0. 0.]\n",
            " [0. 0. 1. 0. 0. 0. 0. 1.]\n",
            " [0. 0. 0. 1. 0. 0. 1. 0.]]\n"
          ]
        }
      ]
    },
    {
      "cell_type": "code",
      "source": [
        "from sklearn.preprocessing import OneHotEncoder\n",
        "\n",
        "# Create a sample dataframe\n",
        "data = {'Animal': ['Cat', 'Dog', 'Parrot', 'Whale'],\n",
        "        'Color': ['Brown', 'Black', 'Mixed', 'Gray']}\n",
        "df = pd.DataFrame(data)\n",
        "\n",
        "# Perform one hot encoding\n",
        "enc = OneHotEncoder()\n",
        "encoded_data = enc.fit_transform(df[['Animal', 'Color']])\n",
        "\n",
        "print(encoded_data.toarray())"
      ],
      "metadata": {
        "colab": {
          "base_uri": "https://localhost:8080/"
        },
        "id": "TDp3Qyqb5nSJ",
        "outputId": "7ec7c379-1def-4067-8b26-c5ea3276cb7f"
      },
      "execution_count": 22,
      "outputs": [
        {
          "output_type": "stream",
          "name": "stdout",
          "text": [
            "[[1. 0. 0. 0. 0. 1. 0. 0.]\n",
            " [0. 1. 0. 0. 1. 0. 0. 0.]\n",
            " [0. 0. 1. 0. 0. 0. 0. 1.]\n",
            " [0. 0. 0. 1. 0. 0. 1. 0.]]\n"
          ]
        }
      ]
    },
    {
      "cell_type": "code",
      "source": [
        "import pandas as pd\n",
        "from sklearn.preprocessing import OneHotEncoder\n",
        "data={'animal':['cat','dog','cow','fish'],\n",
        "      'color':['brown','yellow','black','grey']}\n",
        "df=pd.DataFrame(data)\n",
        "#one hot encoding\n",
        "enc=OneHotEncoder()\n",
        "encoded_data= enc.fit_transform(df[['animal', 'color']])\n",
        "print(encoded_data.toarray())\n"
      ],
      "metadata": {
        "colab": {
          "base_uri": "https://localhost:8080/"
        },
        "id": "9VKp9tF96Sh6",
        "outputId": "df3e4e23-1d85-4a71-e175-a1bb1c818dd4"
      },
      "execution_count": 25,
      "outputs": [
        {
          "output_type": "stream",
          "name": "stdout",
          "text": [
            "[[1. 0. 0. 0. 0. 1. 0. 0.]\n",
            " [0. 0. 1. 0. 0. 0. 0. 1.]\n",
            " [0. 1. 0. 0. 1. 0. 0. 0.]\n",
            " [0. 0. 0. 1. 0. 0. 1. 0.]]\n"
          ]
        }
      ]
    },
    {
      "cell_type": "code",
      "source": [],
      "metadata": {
        "id": "t3qmNDPD6fnE"
      },
      "execution_count": null,
      "outputs": []
    }
  ]
}